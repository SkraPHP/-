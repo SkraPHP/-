{
 "cells": [
  {
   "cell_type": "markdown",
   "id": "3bae1f88",
   "metadata": {},
   "source": [
    "### Поиск в яндексе"
   ]
  },
  {
   "cell_type": "code",
   "execution_count": 4,
   "id": "74b643c5",
   "metadata": {},
   "outputs": [
    {
     "name": "stdout",
     "output_type": "stream",
     "text": [
      "Поле поиска существует\n",
      "Таблица не появилась\n",
      "Страница результатов появилась\n",
      "Первая ссылка ведет на сайт tensor.ru\n"
     ]
    }
   ],
   "source": [
    "# импорт библиотек\n",
    "from selenium import webdriver\n",
    "from selenium.webdriver.common.keys import Keys\n",
    "\n",
    "# Initialize Chrome WebDriver\n",
    "driver = webdriver.Chrome()\n",
    "\n",
    "# url\n",
    "url = \"https://ya.ru/\"\n",
    "# 1) Зайти на https://ya.ru/\n",
    "driver.get(url)\n",
    "\n",
    "# 2) Проверить наличия поля поиска\n",
    "search_filed = driver.find_elements_by_class_name(\"search3__input\")\n",
    "print(\"Поле поиска существует\") if search_filed else print(\"Нет поля поиска\")\n",
    "\n",
    "# 3) Ввести в поиск Тензор\n",
    "search_filed[0].send_keys(\"Тензор\")\n",
    "\n",
    "# 4) Проверить, что появилась таблица с подсказками (suggest)\n",
    "suggest = driver.find_elements_by_class_name(\"mini-suggest__popup-content\")\n",
    "print(\"Таблица появилась\") if suggest else print(\"Таблица не появилась\")\n",
    "\n",
    "# 5) Нажать enter\n",
    "search_filed[0].send_keys(Keys.ENTER)\n",
    "\n",
    "# 6) Проверить, что появилась страница результатов поиска\n",
    "navigation = driver.find_elements_by_class_name(\"navigation\")\n",
    "print(\"Страница результатов появилась\") if navigation else print(\"Страница результатов не появилась\")\n",
    "\n",
    "# 7) Проверить 1 ссылка ведет на сайт tensor.ru\n",
    "check_first_url = False\n",
    "search_result = driver.find_element_by_id(\"search-result\")\n",
    "first_li = search_result.find_elements_by_tag_name(\"li\")[0]\n",
    "first_Link = first_li.find_element_by_class_name(\"Organic-Subtitle\").find_element_by_class_name(\"Link\").text\n",
    "print(\"Первая ссылка ведет на сайт tensor.ru\") if first_Link == \"tensor.ru\" else print(\"Первая ссылка не ведет на сайт tensor.ru\")"
   ]
  }
 ],
 "metadata": {
  "kernelspec": {
   "display_name": "Python 3",
   "language": "python",
   "name": "python3"
  },
  "language_info": {
   "codemirror_mode": {
    "name": "ipython",
    "version": 3
   },
   "file_extension": ".py",
   "mimetype": "text/x-python",
   "name": "python",
   "nbconvert_exporter": "python",
   "pygments_lexer": "ipython3",
   "version": "3.6.5"
  }
 },
 "nbformat": 4,
 "nbformat_minor": 5
}
