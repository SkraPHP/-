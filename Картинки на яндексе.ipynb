{
 "cells": [
  {
   "cell_type": "markdown",
   "id": "336cdeeb",
   "metadata": {},
   "source": [
    "### Картинки на яндексе"
   ]
  },
  {
   "cell_type": "code",
   "execution_count": 2,
   "id": "86fc747c",
   "metadata": {},
   "outputs": [
    {
     "name": "stdout",
     "output_type": "stream",
     "text": [
      "Кнопка меню есть\n",
      "Перешли на https://yandex.ru/images/\n",
      "Название категории отображается в поле поиска\n",
      "Картинка открылась\n",
      "Картинка изменилась\n",
      "Картинка осталась из шага 8\n"
     ]
    }
   ],
   "source": [
    "# импорт библиотек\n",
    "from selenium import webdriver\n",
    "from selenium.webdriver.common.keys import Keys\n",
    "\n",
    "# Initialize Chrome WebDriver\n",
    "driver = webdriver.Chrome()\n",
    "\n",
    "# url\n",
    "url = \"https://ya.ru/\"\n",
    "# 1) Зайти на https://ya.ru/\n",
    "driver.get(url)\n",
    "\n",
    "# 2) Проверить, что кнопка меню присутствует на странице\n",
    "check_menu_button = False\n",
    "menu_button = driver.find_elements_by_class_name(\"services-pinned__content\")\n",
    "if(menu_button):\n",
    "    menu_button = menu_button[0].find_element_by_xpath(\"//a[@title='Все сервисы']\")\n",
    "    print(\"Кнопка меню есть\") if menu_button else print(\"Кнопки меню нет\")\n",
    "\n",
    "# 3) Открыть меню, выбрать “Картинки”\n",
    "menu_button.click()\n",
    "images_button = driver.find_element_by_class_name(\"services-more-popup__section-content\").find_element_by_xpath(\"//a[@aria-label='Картинки']\")\n",
    "images_button.click()\n",
    "# switch_to new tab\n",
    "driver.switch_to.window(driver.window_handles[-1])\n",
    "\n",
    "# 4)Проверить, что перешли на url https://yandex.ru/images/\n",
    "print(\"Перешли на https://yandex.ru/images/\") if driver.current_url == 'https://yandex.ru/images/' else print(\"Не перешли на https://yandex.ru/images/\")\n",
    "\n",
    "# 5) Открыть первую категорию\n",
    "first_category = driver.find_element_by_class_name(\"PopularRequestList\").find_elements_by_class_name(\"PopularRequestList-Item \")[0]\n",
    "first_category_name = first_category.get_attribute(\"data-grid-text\")\n",
    "first_category.click()\n",
    "first_category_name\n",
    "\n",
    "# 6) Проверить, что название категории отображается в поле поиска\n",
    "search_filed_value = driver.find_element_by_class_name(\"input__control\").get_attribute(\"value\")\n",
    "print(\"Название категории отображается в поле поиска\") if search_filed_value == first_category_name else print(\"Название категории не отображается в поле поиска\")\n",
    "\n",
    "# 7) Открыть 1 картинку\n",
    "driver.implicitly_wait(10) # seconds\n",
    "first_image = driver.find_element_by_class_name(\"serp-list\").find_elements_by_class_name(\"serp-item\")[0]\n",
    "first_image.click()\n",
    "\n",
    "# 8) Проверить, что картинка открылась\n",
    "MMImage_Origin = driver.find_elements_by_class_name(\"MMImage-Origin\")\n",
    "print(\"Картинка открылась\") if MMImage_Origin else print(\"Картинка не открылась\")\n",
    "\n",
    "# 9) Нажать кнопку вперед\n",
    "CircleButtons = driver.find_element_by_class_name(\"MediaViewer-LayoutScene\").find_elements_by_class_name(\"CircleButton\")\n",
    "CircleButtons[-1].click()\n",
    "\n",
    "# 10) Проверить, что картинка сменилась\n",
    "MMGallery_Items = driver.find_element_by_class_name(\"MMGallery-Container\").find_elements_by_class_name(\"MMGallery-Item\")\n",
    "MMGallery_Items[0].get_attribute(\"class\")\n",
    "print(\"Картинка изменилась\") if 'selected' not in MMGallery_Items[0].get_attribute(\"class\") else print(\"Картинка не изменилась\")\n",
    "\n",
    "# 11) Нажать назад\n",
    "CircleButtons[0].click()\n",
    "\n",
    "# 12) Проверить, что картинка осталась из шага 8\n",
    "check_back_to_first_image = False\n",
    "print(\"Картинка осталась из шага 8\") if 'selected' in MMGallery_Items[0].get_attribute(\"class\") else print(\"Картинка не осталась из шага 8\")"
   ]
  }
 ],
 "metadata": {
  "kernelspec": {
   "display_name": "Python 3",
   "language": "python",
   "name": "python3"
  },
  "language_info": {
   "codemirror_mode": {
    "name": "ipython",
    "version": 3
   },
   "file_extension": ".py",
   "mimetype": "text/x-python",
   "name": "python",
   "nbconvert_exporter": "python",
   "pygments_lexer": "ipython3",
   "version": "3.6.5"
  }
 },
 "nbformat": 4,
 "nbformat_minor": 5
}
